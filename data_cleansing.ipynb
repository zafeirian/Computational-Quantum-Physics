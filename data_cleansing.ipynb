{
 "cells": [
  {
   "cell_type": "code",
   "execution_count": 1,
   "id": "e1e82976",
   "metadata": {},
   "outputs": [],
   "source": [
    "import pandas as pd"
   ]
  },
  {
   "cell_type": "code",
   "execution_count": 2,
   "id": "903d9051",
   "metadata": {},
   "outputs": [
    {
     "data": {
      "text/plain": [
       "array([dtype('float64'), dtype('O')], dtype=object)"
      ]
     },
     "execution_count": 2,
     "metadata": {},
     "output_type": "execute_result"
    }
   ],
   "source": [
    "df = pd.read_csv('HIGGS_8K.csv', header=None)\n",
    "# The 2 types of variables.\n",
    "df.dtypes.unique()"
   ]
  },
  {
   "cell_type": "code",
   "execution_count": 3,
   "id": "ac7d257a",
   "metadata": {},
   "outputs": [
    {
     "name": "stdout",
     "output_type": "stream",
     "text": [
      "i: 17 was object type column.\n"
     ]
    }
   ],
   "source": [
    "for i in df:\n",
    "    a = df[i].dtype\n",
    "    if not  a == 'float64':\n",
    "        print(f\"i: {i} was {a} type column.\")"
   ]
  },
  {
   "cell_type": "markdown",
   "id": "9d080032",
   "metadata": {},
   "source": [
    "The following error was raised when tried to pd.to_numeric. $\\\\$\n",
    "ValueError: Unable to parse string \"0.000000000000000000e+00.1\" at position 0 $\\\\$\n",
    "The \"e+00.1\" must first be fixed. "
   ]
  },
  {
   "cell_type": "code",
   "execution_count": 4,
   "id": "3ead93b0",
   "metadata": {},
   "outputs": [
    {
     "data": {
      "text/plain": [
       "array([dtype('float64')], dtype=object)"
      ]
     },
     "execution_count": 4,
     "metadata": {},
     "output_type": "execute_result"
    }
   ],
   "source": [
    "df[17] = df[17].str.replace(r'e\\+00\\.(\\d+)$', r'e-\\1', regex=True)\n",
    "df[17] = pd.to_numeric(df[17])\n",
    "df.dtypes.unique()"
   ]
  },
  {
   "cell_type": "code",
   "execution_count": 5,
   "id": "bbaf754c",
   "metadata": {},
   "outputs": [],
   "source": [
    "df.to_csv('higgs_data_cleansed.csv', index=False)"
   ]
  },
  {
   "cell_type": "code",
   "execution_count": null,
   "id": "48293ca5",
   "metadata": {},
   "outputs": [],
   "source": []
  }
 ],
 "metadata": {
  "kernelspec": {
   "display_name": "pytorch2",
   "language": "python",
   "name": "python3"
  },
  "language_info": {
   "codemirror_mode": {
    "name": "ipython",
    "version": 3
   },
   "file_extension": ".py",
   "mimetype": "text/x-python",
   "name": "python",
   "nbconvert_exporter": "python",
   "pygments_lexer": "ipython3",
   "version": "3.12.9"
  }
 },
 "nbformat": 4,
 "nbformat_minor": 5
}
